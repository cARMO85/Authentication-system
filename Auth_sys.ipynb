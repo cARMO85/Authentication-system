{
 "cells": [
  {
   "cell_type": "code",
   "execution_count": null,
   "id": "6d15c807",
   "metadata": {},
   "outputs": [
    {
     "name": "stdout",
     "output_type": "stream",
     "text": [
      "1. Register\n",
      "2. Login\n",
      "3. Quit\n"
     ]
    }
   ],
   "source": [
    "import csv\n",
    "from IPython.display import clear_output\n",
    "\n",
    "# Handle user registration and writing to CSV\n",
    "def registerUser():\n",
    "    with open(\"users.csv\", mode=\"a\", newline=\"\") as f:\n",
    "        writer = csv.writer(f, delimiter=\",\")\n",
    "        print(\"To register, please enter your info:\")\n",
    "        email = input(\"Email: \")\n",
    "        password = input(\"Password: \")\n",
    "        password2 = input(\"Re-type password: \")\n",
    "        clear_output()\n",
    "        if password == password2:\n",
    "            writer.writerow([email, password])\n",
    "            print(\"You are now registered!\")\n",
    "        else:\n",
    "            print(\"Something went wrong. Try again.\")\n",
    "\n",
    "# Ask for user info and return True to login or False if incorrect\n",
    "def loginUser():\n",
    "    print(\"To login, please enter your info:\")\n",
    "    email = input(\"E-mail: \")\n",
    "    password = input(\"Password: \")\n",
    "    clear_output()\n",
    "    with open(\"users.csv\", mode=\"r\") as f:\n",
    "        reader = csv.reader(f, delimiter=\",\")\n",
    "        for row in reader:\n",
    "            if row == [email, password]:\n",
    "                print(\"You are now logged in.\")\n",
    "                return True\n",
    "    print(\"Something went wrong. Try again.\")\n",
    "    return False\n",
    "\n",
    "# Variables for main loop\n",
    "active = True\n",
    "logged_in = False\n",
    "\n",
    "# Main loop\n",
    "while active:\n",
    "    if logged_in:\n",
    "        print(\"1. Logout\\n2. Quit\")\n",
    "    else:\n",
    "        print(\"1. Register\\n2. Login\\n3. Quit\")\n",
    "    choice = input(\"What would you like to do?\").lower()\n",
    "    clear_output()\n",
    "    \n",
    "    if choice == \"register\" and not logged_in:\n",
    "        registerUser()\n",
    "    elif choice == \"login\" and not logged_in:\n",
    "        logged_in = loginUser()\n",
    "    elif choice == \"quit\":\n",
    "        active = False\n",
    "        print(\"Thanks for using my software.\")\n",
    "    elif choice == \"logout\" and logged_in:\n",
    "        logged_in = False\n",
    "        print(\"You are now logged out.\")\n",
    "    else:\n",
    "        print(\"Sorry, please try again.\")\n"
   ]
  },
  {
   "cell_type": "code",
   "execution_count": null,
   "id": "3d9a0028",
   "metadata": {},
   "outputs": [],
   "source": []
  }
 ],
 "metadata": {
  "kernelspec": {
   "display_name": "Python 3 (ipykernel)",
   "language": "python",
   "name": "python3"
  },
  "language_info": {
   "codemirror_mode": {
    "name": "ipython",
    "version": 3
   },
   "file_extension": ".py",
   "mimetype": "text/x-python",
   "name": "python",
   "nbconvert_exporter": "python",
   "pygments_lexer": "ipython3",
   "version": "3.11.3"
  }
 },
 "nbformat": 4,
 "nbformat_minor": 5
}
